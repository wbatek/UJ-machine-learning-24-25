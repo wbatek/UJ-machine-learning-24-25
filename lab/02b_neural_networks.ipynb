{
 "cells": [
  {
   "cell_type": "code",
   "execution_count": 71,
   "metadata": {
    "ExecuteTime": {
     "end_time": "2024-10-15T16:46:30.224737Z",
     "start_time": "2024-10-15T16:46:30.201689Z"
    }
   },
   "outputs": [],
   "source": [
    "from typing import List, Tuple\n",
    "\n",
    "import numpy as np\n",
    "import torch\n",
    "import torchvision\n",
    "from torch import nn\n",
    "from torch.nn.functional import cross_entropy\n",
    "from torch.optim import SGD\n",
    "from torchvision.datasets import MNIST"
   ]
  },
  {
   "cell_type": "markdown",
   "metadata": {},
   "source": [
    "# Sieci neuronowe\n",
    "\n",
    "## MNIST\n",
    "Popularnym \"prostym\" datasetem, na którym można przetestować nasz model zanim zajmiemy się trudniejszymi problemami, jest MNIST, zbiór danych zawierających ręcznie rysowane cyfry. Poniżej kilka przykładowych cyfr:\n",
    "\n",
    "<img width=\"400\" src=\"https://miro.medium.com/proxy/0*At0wJRULTXvyA3EK.png\" />\n",
    "\n",
    "\n",
    "Zadanie naszego modelu polega na tym, by na podstawie obrazka narysowanej ręcznie cyfry określić, jaka to jest cyfra.\n",
    "\n",
    "Czyli nasz model, widząc taki obrazek:\n",
    "<img width=\"200\" src=\"https://machinelearningmastery.com/wp-content/uploads/2019/02/sample_image-768x763.png\" />\n",
    "\n",
    "powinien odpowiedzieć, że to cyfra \"7\".\n",
    "\n",
    "\n",
    "**Pytanie: Czy w takim sformułowaniu MNIST służy do regresji czy do klasyfikacji?**"
   ]
  },
  {
   "cell_type": "markdown",
   "metadata": {},
   "source": [
    "## Praca na obrazkach\n",
    "Nasze modele jak dotąd przyjmowały wyłącznie wektory - w jaki sposób możemy w takich modelach przetwarzać obrazki?\n",
    "\n",
    "Obrazek to tak naprawdę trójwymiarowa tablica pikseli o wymiarach: `[H, W, C]`, gdzie `H` to wysokość, `W` to szerokość, a `C` to liczba kanałów (klasycznie: red, green, blue).\n",
    "\n",
    "Najprostsze co możemy zrobić, to spłaszczyć naszą tablicę do jednego wymiaru, wektora o kształcie `[H * W * C]`. W przypadku MNIST-a nasze obrazki mają wymiar `28x28` pikseli i jest tylko jeden kanał (odcienie szarości), więc każdy z naszych wektorów będzie miał kształt `[28 * 28] = [784]`.\n",
    "\n",
    "W przyszłości poznamy też sprytniejsze sposoby działania na obrazkach, np. za pomocą sieci konwolucyjnych.\n",
    "\n",
    "## Stochastic gradient descent\n",
    "\n",
    "Dotychczas kiedy chcieliśmy minimalizować funkcję kosztu $L(X; \\theta)$ dla całego naszego zbioru $X \\in \\mathbb{R}^{NxD}$, liczyliśmy średni koszt dla wszystkich elementów $x \\in X$, tzn. \n",
    "\n",
    "$$L(X; \\theta) = \\frac{1}{N} \\sum_i L(x_i; \\theta) $$\n",
    "\n",
    "Następnie liczyliśmy gradient tego kosztu, żeby zminimalizować funkcję.\n",
    "\n",
    "W praktyce może się okazać, że nasz dataset jest gigantyczny, np. kiedy mamy miliony przykładów. Niepraktyczne wtedy jest liczenie całego tego kosztu a tym bardziej gradientu. W praktyce w każdym kroku liczymy funkcję kosztu (i jej gradient) z innego podzbioru elementów w naszym zbiorze, czyli z tzw. **batcha**:\n",
    "\n",
    "$$L_{\\mathrm{batch}} (X;\\theta) = \\frac{1}{|B|} \\sum_{x \\in B} L(x; \\theta) $$ \n",
    "\n",
    "Gradient po koszcie policzonym z batcha będzie inny niż gradient liczony po koszcie policzonym z całego zbioru, ale powinny być w miarę podobne, tzn:\n",
    "\n",
    "$$ \\nabla_\\theta L_{\\mathrm{batch}} (X; \\theta) \\approx \\nabla_\\theta L(X; \\theta) $$\n",
    "\n",
    "Metodę spadku gradientu zaimplementowaną w ten sposób (batchowo) nazywamy metodą **stochastycznego spadku gradientu** (*Stochastic Gradient Descent, SGD*). \n",
    "\n",
    "\n",
    "## Torchvision\n",
    "PyTorch, a także pakiet `torchvision` udostępnia parę przydatnych narzędzi, z których skorzystamy na dzisiejszych zajęciach. Dla przykładu znacznie uproszczone jest pobieranie i ładowanie danych. W pakiecie [`torchvision.datasets`](https://pytorch.org/docs/stable/torchvision/datasets.html) znajdziemy popularne datasety, m.in. właśnie MNIST-a.\n",
    "\n",
    "Oprócz tego z samego `torcha` możemy skorzystać z [`DataLoadera`](https://pytorch.org/docs/stable/data.html#torch.utils.data.DataLoader), który implementuje wiele przydatnych operacji do ładowania danych, np. dzielenie datasetu w batche i shufflowanie."
   ]
  },
  {
   "cell_type": "markdown",
   "metadata": {},
   "source": [
    "## Zadanie 1 (2 pkt.)\n",
    "Klasa `MNIST` zwraca nam dane w postaci obiektów [PIL](https://pillow.readthedocs.io/en/stable/). Należy je odpowiednio przetworzyć, zanim będziemy mogli na nich pracować.\n",
    "\n",
    "Za pomocą [`transformacji`](https://pytorch.org/vision/stable/transforms.html) podawanych do klasy MNIST należy:\n",
    "1. Zamienić obiekty `PIL` na Tensory.\n",
    "2. Policzyć średnią i odchylenie standardowe pikseli dla **całego zbioru trenującego** i użyć ich później do znormalizowania danych trenujących i testowych. Do liczenia średniej i odchylenia standardowego wykorzystać funkcję  `calculate_mean_and_std` (proszę zwrócić uwagę na to w jakim przedziale znajdują się dane przed normalizacją – chcemy aby były w przedziale 0-1). **HINT**: Tutaj torchvision powinien nam to ułatwić.\n",
    "3. Zmienić \"kształt\" każdego przykładu z `28x28` na `784`.\n",
    "    **HINT**: [`Lambda`](https://pytorch.org/vision/stable/generated/torchvision.transforms.Lambda.html)\n",
    "\n",
    "Uwaga: proszę zwrócić uwagę co dokładnie robią używane_transformacje!"
   ]
  },
  {
   "cell_type": "code",
   "execution_count": 72,
   "metadata": {
    "ExecuteTime": {
     "end_time": "2024-10-15T16:46:35.046498Z",
     "start_time": "2024-10-15T16:46:30.252461Z"
    }
   },
   "outputs": [],
   "source": [
    "from torchvision import transforms\n",
    "from torch.utils.data import DataLoader\n",
    "\n",
    "transform = transforms.Compose([\n",
    "    transforms.ToTensor(),\n",
    "    transforms.Lambda(lambda x: x.view(-1))\n",
    "])\n",
    "\n",
    "train_data = MNIST(\n",
    "    root=\".\",\n",
    "    download=True,\n",
    "    train=True,\n",
    "    transform=transform\n",
    ")\n",
    "\n",
    "def calculate_mean_and_std(dataset) -> Tuple[float, float]:\n",
    "    loader = DataLoader(dataset, batch_size=1, shuffle=False)\n",
    "    s = 0\n",
    "    sqs = 0\n",
    "    c = 0\n",
    "    for data, _ in loader:\n",
    "        s += data.sum()\n",
    "        sqs += (data ** 2).sum()\n",
    "        c += data.numel()\n",
    "    \n",
    "    mean = s / c\n",
    "    var = (sqs / c) - (mean ** 2)\n",
    "    std = torch.sqrt(var)\n",
    "    return mean.item(), std.item()\n",
    "\n",
    "mean, std = calculate_mean_and_std(train_data)\n",
    "\n",
    "test_data = MNIST(\n",
    "    root=\".\",\n",
    "    download=True,\n",
    "    train=False,\n",
    "    transform=transform\n",
    ")"
   ]
  },
  {
   "cell_type": "code",
   "execution_count": 73,
   "metadata": {
    "ExecuteTime": {
     "end_time": "2024-10-15T16:46:38.862644Z",
     "start_time": "2024-10-15T16:46:35.048938Z"
    }
   },
   "outputs": [],
   "source": [
    "mean, std = calculate_mean_and_std(train_data)\n",
    "assert np.isclose(mean, 0.1306, atol=1e-4)\n",
    "assert np.isclose(std, 0.3081, atol=1e-4)"
   ]
  },
  {
   "cell_type": "code",
   "execution_count": 74,
   "metadata": {
    "ExecuteTime": {
     "end_time": "2024-10-15T16:46:38.871387Z",
     "start_time": "2024-10-15T16:46:38.863444Z"
    }
   },
   "outputs": [],
   "source": [
    "train_loader = torch.utils.data.DataLoader(train_data, batch_size=10)\n",
    "\n",
    "x, y = next(iter(train_loader))\n",
    "assert len(x.shape) == 2\n",
    "assert x.shape == (10, 784)"
   ]
  },
  {
   "cell_type": "markdown",
   "metadata": {},
   "source": [
    "# Sieci neuronowe\n",
    "\n",
    "### Modele liniowe\n",
    "\n",
    "Jak dotąd omawialiśmy wyłącznie modele liniowe, tzn. takie, które dla zadanego $x$ potrafiły modelować funkcję rodzaju $$f(x) = g(w^T x + b) $$\n",
    "gdzie $x \\in \\mathbb{R}^D, w \\in \\mathbb{R}^D$, $b \\in \\mathbb{R}$ a $g$ to funkcja aktywacji, np. sigmoid.\n",
    "\n",
    "Możemy też stworzyć podobny model, który na wyjściu nie będzie podawał jednej liczby, ale cały wektor o wymiarze $K$, tzn:\n",
    "$$f(x) = g(W^T x + \\mathbf{b}), $$\n",
    "gdzie $W$ jest teraz macierzą a $\\mathbf{b}$ wektorem, tzn. $W \\in \\mathbb{R}^{DxK}, \\mathbf{b} \\in \\mathbb{R}^{K}$.\n",
    "\n",
    "### Zanurzenia\n",
    "\n",
    "Jeżeli chcieliśmy, żeby takie modele mogły zajmować się problemami nieliniowymi, musieliśmy znaleźć odpowiednią reprezentację danych (zanurzenia wielomianowe, kernele dla SVM-ów), które sprawi, że w nowej przestrzeni problem będzie liniowy. W tym celu trzeba \"zgadnąć\", jakie przekształcenie jest właściwe - co w przypadku bardziej skomplikowanych problemów jest niezwykle trudne. \n",
    "\n",
    "Ważne pytanie: **czy jesteśmy w stanie zbudować model, który znajdzie nam odpowiednią reprezentację dla danych?**\n",
    "\n",
    "### Nakładanie warstw liniowych\n",
    "\n",
    "**Rozwiązanie:** Nałóżmy na siebie kilka warstw modeli liniowych, np:\n",
    "$$\n",
    "f(x) = g_2(W_2^T (g_1(W_1^T x + \\mathbf{b_1})) + \\mathbf{b_2}),\n",
    "$$\n",
    "czyli, rozpisując czytelniej:\n",
    "$$\n",
    "f(x) = f^{(2)}(f^{(1)}(x)) \\\\\n",
    "f^{(1)}(x) = g_1(W_1^T x + \\mathbf{b_1}) \\\\ \n",
    "f^{(2)}(x) = g_2(W_2^T x + \\mathbf{b_2})\n",
    "$$\n",
    "\n",
    "Powstały model nazywamy **sztuczną siecią neuronową** (*artificial neural network*).\n",
    " \n",
    "Każdą funkcję $f^{(i)}$ nazywamy **warstwą** (*layer*). W naszej sieci możemy umieścić dowolnie wiele warstw, ale na razie będziemy zajmować się modelami nieszczególnie głębokimi (mniej niż 10 warstw).\n",
    "\n",
    "Warstwy $f^{(i)}$ mogą implementować dowolną funkcję, ale jeśli mają postać $g(W^Tx +\\mathbf{b})$, to nazywamy je warstwami liniowymi lub warstwami *fully connected*. Na tych zajęciach będziemy zajmować się wyłącznie sieciami o takiej postaci.\n",
    "\n",
    "\n",
    "### Uczenie się reprezentacji\n",
    "\n",
    "Jeśli nasz model jest postaci\n",
    "$$\n",
    "f(x) = f^{(n)}(f^{(n-1)}(\\ldots f^{1}(x) \\ldots )),\n",
    "$$\n",
    "to możemy przyjąć, że warstwa $f^{(n)}$ rozwiązuje problem liniowy na reprezentacji zadanej przez warstwy $f^{(1)}, f^{(2)}, \\ldots, f^{(n-1)}$. \n",
    "\n",
    "\n",
    "\n",
    "<img src=\"https://upload.wikimedia.org/wikipedia/commons/thumb/4/46/Colored_neural_network.svg/1200px-Colored_neural_network.svg.png\" width=300 />  \n",
    "\n",
    "Źródło: [Wikipedia](https://en.wikipedia.org/wiki/Artificial_neural_network).\n",
    "\n",
    "### Neurony\n",
    "\n",
    "**Neuron** w tym kontekście to fragment warstwy, który łączy się ze wszystkimi neuronami w poprzedniej warstwie i na ich podstawie produkuje jedno z wyjść warstwy. \n",
    "\n",
    "Jeśli nasza warstwa ma postać $g(W^T x + \\mathbf{b})$, to $i$-ty neuron implementuje funkcję:\n",
    "$$ f(x) = g(w_i^T x + b_i), $$\n",
    "gdzie wektor $w_i$ jest $i$-tą kolumną macierzy $W$ a $b_i$ jest $i$-tym elementem wektora $\\mathbf{b}$."
   ]
  },
  {
   "cell_type": "markdown",
   "metadata": {},
   "source": [
    "## Zadanie 2 (3 pkt.)\n",
    "Za pomocą przygotowanego przez TensorFlow [narzędzia do zabawy z sieciami neuronowymi](http://playground.tensorflow.org) proszę przeprowadzić poniższe eksperymenty i opisać rezultaty.\n",
    "\n",
    "Kilka uwag:\n",
    "* Każda odpowiedź powinna być zawarta w jednym/dwóch zdaniach. \n",
    "* Punktowane będą nie tylko prawidłowe odpowiedzi, ale też sensowne hipotezy/przypuszczenia.\n",
    "* Jeżeli proszeni są Państwo o podanie architektury sieci, to najlepiej zapisać ją w skrótowe postaci `n_1-n_2-...-n_k`, gdzie `n_i` to liczba neuronów w `i`-tej warstwie. Czyli jeśli sieć ma pięć neuronów w pierwszej warstwie, trzy neurony w drugiej warstwie oraz sześć neuronów w trzeciej warstwie, to można ją opisać jako `5-3-6`.\n",
    "* Proszę nie zmieniać opcji noise/ratio of training to test data. Proszę nie zmieniać feature'ów wejściowych, o ile nie będzie to wyraźnie podane w zadaniu.\n",
    "* Można użyć opcji \"show test data\", żeby sprawdzić, dlaczego koszt na datasecie treningowym i testowym się różni."
   ]
  },
  {
   "cell_type": "markdown",
   "metadata": {},
   "source": [
    "1) **Eksperymenty na zbiorze Gaussian**\n",
    "* Czy ten dataset można rozwiązać metodami płytkimi, których uczyliśmy się na wcześniejszych zajęciach?\n",
    "* Co sprawia, że ten zbiór danych jest łatwiejszy niż pozostałe?\n",
    "* Porównaj na tym zbiorze dwa modele: sieć neuronową z kilkoma warstwami i kilkudziesięcioma neuronami oraz sieć z jednym neuronem. Który z tych modeli bardziej nadaje się do zadania?"
   ]
  },
  {
   "cell_type": "markdown",
   "source": [
    "1. Ten dataset nadaje się dla metod płytkich, ponieważ dane są separowalne liniowo\n",
    "2. Klasy są wyraźnie rozdzielone i tworzą regularną strukturę\n",
    "3. Do eksperymentu wykorzystałem architekturę 2-4-4-3-4-2, oraz 2-1 (sieć z jednym neuronem). Druga sieć to w zasadzie liniowy klasyfikator, więc ad. 1., ta sieć nada się do tego problemu. Lepsze wyniki szybciej osiąga jednak sieć nr 1"
   ],
   "metadata": {
    "collapsed": false
   }
  },
  {
   "cell_type": "markdown",
   "metadata": {},
   "source": [
    "2) **Eksperymenty na zbiorze Circle**\n",
    "* Załóżmy, że mamy sieć z jednym neuronem. Ile najmniej potrzeba feature'ów wejściowych, żeby model osiągał na datasecie testowym koszt $\\leq 0.001$? Jakie to feature'y?\n",
    "* Załóżmy, że na wejściu mamy tylko niezanurzone feature'y (tzn. $x_1$ oraz $x_2$). Stwórz najmniejszą sieć neuronową (pod względem liczby neuronów), która osiąga na datasecie testowym koszt $\\leq 0.001$. Opisz architekturę tej sieci. \n",
    "* Spróbuj rozwiązać ten problem za pomocą dowolnie dużej sieci neuronowej **z aktywacjami liniowymi** (nie zmieniając feature'ów wejściowych). Czy udało się osiągnąć wynik $\\leq 0.001$? Jeśli tak, podaj architekturę sieci. Jeśli nie, podaj hipotezę, dlaczego się nie udało."
   ]
  },
  {
   "cell_type": "markdown",
   "source": [
    "Eksperymenty wykonuję do 1000 epok.\n",
    "1. 3 featury wejściowe - x1 ** 2, x2 ** 2, x1x2\n",
    "2. Najmniejsza sieć neuronowa, przy której udało mi się osiągnąć oczekiwany test loss, to architektura 2-3-2\n",
    "3. Nie udało się osiągnąć oczekiwanego wyniku.\n",
    "Hipoteza: zbiór ten nie jest separowalny liniowo, a sieć neuronowa z aktywacjami liniowymi nie może tworzyć nieliniowych zależności. Mimo zwiększania liczby neuronów i ukrytych warstw, bez funkcji nieliniowych model nie będzie w stanie przekroczyć swoich ograniczeń"
   ],
   "metadata": {
    "collapsed": false
   }
  },
  {
   "cell_type": "markdown",
   "metadata": {},
   "source": [
    "3) **Eksperymenty na zbiorze Spiral**\n",
    "* Osiągnij (stabilny) koszt $\\leq 0.1$ na zbiorze testowym, podaj wykorzystaną architekturę, rodzaj aktywacji, regularyzację  oraz learning rate.\n",
    "* Co odróżnia rozwiązania które dobrze generalizują od rozwiązań, które overfitują pod względem wizualnym? Popatrz na płaszczyznę z danymi po wytrenowaniu modelu."
   ]
  },
  {
   "cell_type": "markdown",
   "source": [
    "1. 6-8-8, input features: x1, x2, x1 ** 2, x2 ** 2, sin(x1), sin(x2); aktywacja ReLU, regularyzacja L1 z rate 0.001, learning rate 0.01\n",
    "2. Rozwiązania które dobrze generalizują mają granice gładkie i płynne, dobrze dopasowujące się do struktury spirali, a dla porównania rozwiązania które overfitują widać, że w zależności od danych wejściowych tworzą się nieregularne kształty, które dopasowują te dane wejściowe"
   ],
   "metadata": {
    "collapsed": false
   }
  },
  {
   "cell_type": "markdown",
   "metadata": {},
   "source": [
    "## Zadanie 3 (2 pkt.)\n",
    "\n",
    "Ręcznie zaimplementować prostą sieć z jedną warstwą ukrytą. Sieć:\n",
    "1. Na wejściu będzie przyjmować dane o wymiarze `input_dim`\n",
    "2. Pierwsza warstwa ma je przetwarzać na wymiar `hidden_dim`.\n",
    "3. Druga warstwa ma przetwarzać wyjście pierwszej warstwy na wymiar `output_dim`.\n",
    "\n",
    "W tym celu trzeba stworzyć odpowiednie tensory reprezentujące wagi i biasy w poszczególnych warstwach\n",
    "1. Macierze wag należy zainicjalizować za pomocą wartości wylosowanych ze standardowego rozkładu normalnego. \n",
    "2. Dla obu warstw należy stworzyć _biasy_ zainicjalizowane na 0.\n",
    "3. Funkcją aktywacji dla pierwszej warstwy ma być `torch.tanh`. W drugiej warstwie ma być aktywacja liniowa (czyli brak aktywacji).\n",
    "\n",
    "Następnie należy zaimplementować pętlę uczenia z użyciem PyTorchowej funkcji kosztu `nn.CrossEntropyLoss` i optymalizatora SGD. Jeśli wszystko zostało zaimplementowane poprawne, to sieć powinna zazwyczaj osiagać accuracy większe niż `0.82` na zbiorze testowym (chociaż czasami może nie osiągać tej wartości z powodu pechowej inicjalizacji).\n",
    "\n",
    "**HINT** Proszę nie zapomnieć o `requires_grad=True` przy definiowaniu parametrów sieci."
   ]
  },
  {
   "cell_type": "code",
   "execution_count": 75,
   "metadata": {
    "ExecuteTime": {
     "end_time": "2024-10-15T16:46:38.877194Z",
     "start_time": "2024-10-15T16:46:38.873246Z"
    }
   },
   "outputs": [],
   "source": [
    "class CustomNetwork(object):\n",
    "    \"\"\"\n",
    "    Simple 1-hidden layer linear neural network\n",
    "    \"\"\"\n",
    "\n",
    "    def __init__(self, input_dim: int, hidden_dim: int, output_dim: int):\n",
    "        \"\"\"\n",
    "        Initialize network's weights\n",
    "        \"\"\"\n",
    "\n",
    "        self.weight_1: torch.Tensor = torch.randn(input_dim, hidden_dim, requires_grad=True)\n",
    "        self.bias_1: torch.Tensor = torch.zeros(hidden_dim, requires_grad=True)\n",
    "\n",
    "        self.weight_2: torch.Tensor = torch.randn(hidden_dim, output_dim, requires_grad=True)\n",
    "        self.bias_2: torch.Tensor = torch.zeros(output_dim, requires_grad=True)\n",
    "\n",
    "    def __call__(self, x: torch.Tensor) -> torch.Tensor:\n",
    "        \"\"\"\n",
    "        Forward pass through the network\n",
    "        \"\"\"\n",
    "\n",
    "        x = torch.tanh(x @ self.weight_1 + self.bias_1)\n",
    "        x = x @ self.weight_2 + self.bias_2\n",
    "        return x\n",
    "    \n",
    "    def parameters(self) -> List[torch.Tensor]:\n",
    "        \"\"\"\n",
    "        Returns all trainable parameters\n",
    "        \"\"\"\n",
    "        return [self.weight_1, self.bias_1, self.weight_2, self.bias_2]"
   ]
  },
  {
   "cell_type": "code",
   "execution_count": 76,
   "outputs": [],
   "source": [
    "def pytorch_backward(loss: torch.Tensor, model: CustomNetwork):\n",
    "    loss.backward()"
   ],
   "metadata": {
    "collapsed": false,
    "ExecuteTime": {
     "end_time": "2024-10-15T16:46:38.880686Z",
     "start_time": "2024-10-15T16:46:38.878464Z"
    }
   }
  },
  {
   "cell_type": "code",
   "execution_count": 77,
   "outputs": [],
   "source": [
    "def train(model: CustomNetwork, epoch: int, batch_size: int, lr: float, momentum: float, backward_fn=pytorch_backward):\n",
    "\n",
    "    # prepare data loaders, based on the already loaded datasets\n",
    "    train_loader = torch.utils.data.DataLoader(train_data, batch_size=batch_size)\n",
    "    test_loader = torch.utils.data.DataLoader(test_data, batch_size=batch_size)\n",
    "\n",
    "    # initialize the optimizer using the hyperparams\n",
    "    optimizer: torch.optim.Optimizer = SGD(model.parameters(), lr=lr, momentum=momentum)\n",
    "\n",
    "    criterion = nn.CrossEntropyLoss()\n",
    "\n",
    "    # training loop\n",
    "    for e in range(epoch):\n",
    "        for i, (x, y) in enumerate(train_loader):\n",
    "            # reset the gradients from previous iteration\n",
    "            optimizer.zero_grad()\n",
    "            # pass through the network\n",
    "            output = model(x)  # type: torch.Tensor\n",
    "            # calculate loss\n",
    "            loss = criterion(output, y)  # type: torch.Tensor\n",
    "            # backward pass thorught the network\n",
    "            backward_fn(loss, model)\n",
    "            # apply the gradients\n",
    "            optimizer.step()\n",
    "\n",
    "            # log the loss value\n",
    "            if (i + 1) % 100 == 0:\n",
    "                print(\n",
    "                    f\"Epoch {e} iter {i + 1}/{len(train_data) // batch_size} loss: {loss.item()}\",\n",
    "                    end=\"\\r\",\n",
    "                )\n",
    "\n",
    "        # at the end of an epoch run evaluation on the test set\n",
    "        with torch.no_grad():\n",
    "            # initialize the number of correct predictions\n",
    "            correct: int = 0\n",
    "            total: int = 0\n",
    "            for i, (x, y) in enumerate(test_loader):\n",
    "                # pass through the network\n",
    "                output = model(x)  # type: torch.Tensor\n",
    "                # update the number of correctly predicted examples\n",
    "                predicted = torch.argmax(output, dim=1)\n",
    "                correct += (predicted == y).sum().item()\n",
    "                total += y.size(0)\n",
    "\n",
    "            print(f\"\\nTest accuracy: {correct / len(test_data)}\")\n",
    "    return correct"
   ],
   "metadata": {
    "collapsed": false,
    "ExecuteTime": {
     "end_time": "2024-10-15T16:46:38.887710Z",
     "start_time": "2024-10-15T16:46:38.881538Z"
    }
   }
  },
  {
   "cell_type": "code",
   "execution_count": 78,
   "outputs": [
    {
     "name": "stdout",
     "output_type": "stream",
     "text": [
      "Epoch 0 iter 900/937 loss: 0.5820969343185425\r\n",
      "Test accuracy: 0.8235\n",
      "Epoch 1 iter 900/937 loss: 0.3458927869796753\r\n",
      "Test accuracy: 0.8561\n",
      "Epoch 2 iter 900/937 loss: 0.2543036937713623\r\n",
      "Test accuracy: 0.8708\n"
     ]
    }
   ],
   "source": [
    "# hyperparams\n",
    "batch_size: int = 64\n",
    "epoch: int = 3\n",
    "lr: float = 0.01\n",
    "momentum: float = 0.9\n",
    "\n",
    "# initialize the model\n",
    "model: CustomNetwork = CustomNetwork(784, 128, 10)  # type: ignore\n",
    "\n",
    "correct = train(model, epoch, batch_size, lr, momentum)\n",
    "\n",
    "# this is your test\n",
    "assert (\n",
    "    correct / len(test_data) > 0.82\n",
    "), \"Subject to random seed you should be able to get >82% accuracy\""
   ],
   "metadata": {
    "collapsed": false,
    "ExecuteTime": {
     "end_time": "2024-10-15T16:46:48.699811Z",
     "start_time": "2024-10-15T16:46:38.888865Z"
    }
   }
  },
  {
   "cell_type": "markdown",
   "source": [
    "## Zadanie 4 (2 pkt.)\n",
    "\n",
    "Ręcznie zaimplementować backward pass do sieci z poprzedniego zadania"
   ],
   "metadata": {
    "collapsed": false
   }
  },
  {
   "cell_type": "code",
   "execution_count": 79,
   "outputs": [],
   "source": [
    "def my_manual_backward(loss: torch.Tensor, model: CustomNetwork):\n",
    "    with torch.no_grad():\n",
    "        # Note: CrossEntropyLoss = LogSoftmax + NLLLoss\n",
    "        out_grad = torch.ones_like(loss)\n",
    "        nll_grad_fn = loss.grad_fn\n",
    "        log_softmax_grad_fn = nll_grad_fn.next_functions[0][0]\n",
    "\n",
    "        add_grad_fn = log_softmax_grad_fn.next_functions[0][0]\n",
    "\n",
    "        x_times_w2_grad_fn = add_grad_fn.next_functions[0][0]\n",
    "        tanh_grad_fn = x_times_w2_grad_fn.next_functions[0][0]\n",
    "        x_times_w1_grad_fn = tanh_grad_fn.next_functions[0][0].next_functions[0][0]\n",
    "        \n",
    "        nll_grad = nll_grad_fn(out_grad)\n",
    "\n",
    "        log_softmax_grad = log_softmax_grad_fn(nll_grad)\n",
    "\n",
    "        w2_times_x_grad, b2_grad = add_grad_fn(log_softmax_grad)\n",
    "        b2_grad = b2_grad.sum(0)\n",
    "\n",
    "        x_grad, w2_grad = x_times_w2_grad_fn(w2_times_x_grad)\n",
    "\n",
    "        tanh_grad = tanh_grad_fn(x_grad)\n",
    "\n",
    "        w1_times_x_grad, b1_grad = add_grad_fn(tanh_grad)\n",
    "\n",
    "        b1_grad = b1_grad.sum(0)\n",
    "        _, w1_grad = x_times_w1_grad_fn(w1_times_x_grad)\n",
    "\n",
    "        model.weight_1.grad = w1_grad\n",
    "        model.bias_1.grad = b1_grad\n",
    "        model.weight_2.grad = w2_grad\n",
    "        model.bias_2.grad = b2_grad"
   ],
   "metadata": {
    "collapsed": false,
    "ExecuteTime": {
     "end_time": "2024-10-15T16:46:48.704996Z",
     "start_time": "2024-10-15T16:46:48.700753Z"
    }
   }
  },
  {
   "cell_type": "code",
   "execution_count": 80,
   "outputs": [],
   "source": [
    "model: CustomNetwork = CustomNetwork(784, 64, 10)\n",
    "(x, y) = next(iter(train_loader))\n",
    "output = model(x)\n",
    "loss = torch.nn.functional.cross_entropy(output, y)\n",
    "\n",
    "\n",
    "my_manual_backward(loss, model)\n",
    "\n",
    "w1g = model.weight_1.grad.clone().detach()\n",
    "b1g = model.bias_1.grad.clone().detach()\n",
    "w2g = model.weight_2.grad.clone().detach()\n",
    "b2g = model.bias_2.grad.clone().detach()\n",
    "\n",
    "model.weight_1.grad = None\n",
    "model.bias_1.grad = None\n",
    "model.weight_2.grad = None\n",
    "model.bias_2.grad = None\n",
    "\n",
    "loss.backward()\n",
    "\n",
    "assert torch.allclose(w1g, model.weight_1.grad)\n",
    "assert torch.allclose(b1g, model.bias_1.grad)\n",
    "assert torch.allclose(w2g, model.weight_2.grad)\n",
    "assert torch.allclose(b2g, model.bias_2.grad)"
   ],
   "metadata": {
    "collapsed": false,
    "ExecuteTime": {
     "end_time": "2024-10-15T16:46:48.720794Z",
     "start_time": "2024-10-15T16:46:48.706154Z"
    }
   }
  },
  {
   "cell_type": "code",
   "execution_count": 81,
   "outputs": [
    {
     "name": "stdout",
     "output_type": "stream",
     "text": [
      "Epoch 0 iter 900/937 loss: 0.9396922588348389\r\n",
      "Test accuracy: 0.8307\n",
      "Epoch 1 iter 900/937 loss: 0.5345718860626221\r\n",
      "Test accuracy: 0.8622\n",
      "Epoch 2 iter 900/937 loss: 0.33718323707580566\r\n",
      "Test accuracy: 0.876\n"
     ]
    }
   ],
   "source": [
    "# initialize the model\n",
    "model: CustomNetwork = CustomNetwork(784, 128, 10)  # type: ignore\n",
    "\n",
    "correct = train(model, epoch, batch_size, lr, momentum, backward_fn=my_manual_backward)\n",
    "\n",
    "# this is your test\n",
    "assert (\n",
    "    correct / len(test_data) > 0.82\n",
    "), \"Subject to random seed you should be able to get >82% accuracy\""
   ],
   "metadata": {
    "collapsed": false,
    "ExecuteTime": {
     "end_time": "2024-10-15T16:46:58.192696Z",
     "start_time": "2024-10-15T16:46:48.723288Z"
    }
   }
  }
 ],
 "metadata": {
  "kernelspec": {
   "display_name": "Python 3 (ipykernel)",
   "language": "python",
   "name": "python3"
  },
  "language_info": {
   "codemirror_mode": {
    "name": "ipython",
    "version": 3
   },
   "file_extension": ".py",
   "mimetype": "text/x-python",
   "name": "python",
   "nbconvert_exporter": "python",
   "pygments_lexer": "ipython3",
   "version": "3.7.11"
  }
 },
 "nbformat": 4,
 "nbformat_minor": 2
}
