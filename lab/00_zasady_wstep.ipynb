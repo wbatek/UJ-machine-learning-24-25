{
 "cells": [
  {
   "cell_type": "markdown",
   "metadata": {},
   "source": [
    "# Środowisko pracy\n",
    "\n",
    "Na zajęciach będziemy korzystać z języka Python w wersji 3.10 (lub nowszej) oraz zestawu konkretnych pakietów. Na własną odpowiedzialność można korzystać z innych wersji Pythona. Poprzednie wersje Pythona (w szczególności 2.x) nie są zalecane i mogą nie być kompatybilne z notebookami! Zalecamy korzystanie z Linuxa lub MacOSa, nie testowaliśmy notebooków na Windowsie.\n",
    "\n",
    "## Lokalnie\n",
    "\n",
    "1. Ściągnąć repozytorium przedmiotu: \n",
    "    ```\n",
    "    git clone https://github.com/gmum/ml2024-25\n",
    "    ```  \n",
    "2. Ściągnąć oraz zainstalować minicondę: https://conda.io/en/latest/miniconda.html (niewymagane jeśli zainstalowana jest `Anaconda`)  \n",
    "Na windowsie: uruchomić `Anaconda Prompt`\n",
    "3. Stworzyć środowisko razem z wymaganymi paczkami:  \n",
    "    ```\n",
    "    conda create --name ml python=3.10 numpy=1.22.2 scipy=1.11.1 matplotlib=3.7.2 scikit-learn=1.2.0 jupyter\n",
    "    ```\n",
    "4. Aktywować środowisko:\n",
    "Unix/MacOS: `conda activate ml`  \n",
    "Windows: w `Anaconda Prompt`: `activate ml`\n",
    "5.  Doinstalować PyTorcha: https://pytorch.org/  (2.0.1)\n",
    " * GPU: `conda install pytorch torchvision torchaudio pytorch-cuda=11.7 -c pytorch -c nvidia`\n",
    " * CPU only: `conda install pytorch torchvision torchaudio cpuonly -c pytorch`\n",
    "6. W folderze repo odpalić serwer jupytera: `jupyter lab`\n",
    "7. Sprawdzić w przeglądarce czy wszystko działa\n",
    "8. Zachęcamy do używania edytorów notebooków zintegrowanych z IDE, np. PyCharm lub VSCode.\n",
    "\n",
    "(dla użytkowników Dockera) można skorzystać z `nvcr.io/nvidia/pytorch:23.08-py3`\n",
    "\n",
    "\n",
    "## Zmiana git remote\n",
    "\n",
    "1. Po ściąganiu remote jest podpięty pod wspólne repo. Sprawdzamy to poleceniem `git remote -v`:\n",
    "\n",
    "    ```\n",
    "    origin  https://github.com/gmum/ml2024-25.git (fetch)\n",
    "    origin  https://github.com/gmum/ml2024-25.git (push)\n",
    "    ```\n",
    "\n",
    "2. Tworzymy własne repozytorium na github\n",
    "\n",
    "3. Zmieniamy push repo\n",
    "   ```\n",
    "   git remote set-url --push origin <YOUR REPO LINK>\n",
    "   ```\n",
    "4. Sprawdzamy zmiany poleceniem `git remote -v`\n",
    "    ```\n",
    "    origin  https://github.com/gmum/ml2024-25.git (fetch)\n",
    "    origin  <YOUR REPO LINK> (push)\n",
    "    ```\n"
   ]
  },
  {
   "cell_type": "code",
   "execution_count": 22,
   "outputs": [],
   "source": [
    "### Test środowiska"
   ],
   "metadata": {
    "collapsed": false,
    "ExecuteTime": {
     "end_time": "2024-10-09T10:49:36.312209Z",
     "start_time": "2024-10-09T10:49:36.306813Z"
    }
   }
  },
  {
   "cell_type": "code",
   "execution_count": 23,
   "metadata": {
    "ExecuteTime": {
     "end_time": "2024-10-09T10:49:36.349025Z",
     "start_time": "2024-10-09T10:49:36.345941Z"
    }
   },
   "outputs": [],
   "source": [
    "import matplotlib\n",
    "import matplotlib.pyplot as plt\n",
    "import numpy as np\n",
    "import scipy\n",
    "import sklearn\n",
    "import torch"
   ]
  },
  {
   "cell_type": "code",
   "execution_count": 24,
   "outputs": [],
   "source": [
    "### Test PyTorch GPU"
   ],
   "metadata": {
    "collapsed": false,
    "ExecuteTime": {
     "end_time": "2024-10-09T10:49:36.375646Z",
     "start_time": "2024-10-09T10:49:36.373180Z"
    }
   }
  },
  {
   "cell_type": "code",
   "execution_count": 25,
   "outputs": [],
   "source": [
    "t = torch.tensor([1,2,3])\n",
    "# t.cuda()"
   ],
   "metadata": {
    "collapsed": false,
    "ExecuteTime": {
     "end_time": "2024-10-09T10:49:36.397070Z",
     "start_time": "2024-10-09T10:49:36.394485Z"
    }
   }
  },
  {
   "cell_type": "markdown",
   "metadata": {},
   "source": [
    "## Colaboratory (opcjonalnie)\n",
    "W przyszłości do notebooków mogą być potrzebne większe zasoby obliczeniowe. W tym celu będziemy korzystać z narzędzia [Google Colaboratory](https://colab.research.google.com/), które udostępnia za darmo dostęp do GPU. Opcjonalnie można teraz przetestować jego działanie:\n",
    "\n",
    "1. Wrzucić folder z repo na swojego Google Drive.\n",
    "\n",
    "2. Otworzyć ten plik i z dostępnych aplikacji wybrać `Colaboratory`\n",
    "\n",
    "3. Sprawdzić powyższą komórką czy wszystko działa."
   ]
  },
  {
   "cell_type": "markdown",
   "metadata": {},
   "source": [
    "# Wstęp do pakietów naukowych: NumPy\n",
    "\n",
    "Na początek polecam zaznajomić się z podstawami NumPy, polecany tutorial na kompletny wstęp: https://numpy.org/devdocs/user/absolute_beginners.html\n",
    "Dodatkowo z kolejnej części https://numpy.org/devdocs/user/basics.html warto zaznajomić się z: Data types, Array creation, Indexing, Broadcasting.\n",
    "\n",
    "Rada ogólna: nie bać się \"googlowania\" i czytania dokumentacji.\n",
    "\n",
    "**Kolejne zajęcia będą zakładać znajomość podstaw korzystania z numpy. Dla osób, które nie potrafią samodzielnie wykonać poniższych ćwiczeń, przetworzenie materiału z powyższych poradników jest obowiązkowe.**"
   ]
  },
  {
   "cell_type": "markdown",
   "metadata": {},
   "source": [
    "## Zadanie 1. \n",
    "Używając funkcji [`np.random.normal`](https://docs.scipy.org/doc/numpy-1.15.0/reference/generated/numpy.random.normal.html) wylosować dwie macierze **różnych** rozmiarów, i następnie przenożyć je przez siebie macierzowo tak aby otrzymać macierz rozmiaru `9x6`."
   ]
  },
  {
   "cell_type": "code",
   "execution_count": 26,
   "metadata": {
    "ExecuteTime": {
     "end_time": "2024-10-09T10:49:36.417589Z",
     "start_time": "2024-10-09T10:49:36.409315Z"
    }
   },
   "outputs": [
    {
     "name": "stdout",
     "output_type": "stream",
     "text": [
      "[(9, 1), (1, 6), (9, 6)]\n",
      "[[ 0.38327147  0.8344485   0.24144221 -0.42009357 -0.08318742 -0.09521519]\n",
      " [-0.05878975 -0.12799548 -0.03703465  0.06443786  0.01276006  0.01460499]\n",
      " [-0.11420156 -0.24863662 -0.07194138  0.12517327  0.02478696  0.02837081]\n",
      " [-0.86062392 -1.87372761 -0.54215081  0.94330677  0.18679471  0.21380268]\n",
      " [-1.1446047  -2.49200305 -0.72104475  1.25457048  0.24843152  0.28435132]\n",
      " [ 0.36972374  0.80495274  0.2329078  -0.40524427 -0.08024695 -0.09184956]\n",
      " [ 0.14053334  0.30596546  0.0885291  -0.15403482 -0.03050216 -0.03491235]\n",
      " [-0.45831182 -0.99782436 -0.28871394  0.50234328  0.09947461  0.11385727]\n",
      " [-0.52923319 -1.1522325  -0.33339093  0.5800783   0.11486779  0.1314761 ]]\n"
     ]
    }
   ],
   "source": [
    "A = np.random.normal(size=(9,1))\n",
    "B = np.random.normal(size=(1,6))\n",
    "\n",
    "C: np.ndarray = A @ B\n",
    "\n",
    "print([m.shape for m in [A, B, C]])\n",
    "\n",
    "assert A.shape != B.shape\n",
    "assert C.shape == (9, 6)\n",
    "print(C)"
   ]
  },
  {
   "cell_type": "markdown",
   "metadata": {},
   "source": [
    "## Zadanie 2.\n",
    "\n",
    "Zaimplementować funkcję $\\sigma$, która przyjmuje macierz numpy $X$ (**uwaga**: nie mylić z `np.matrix`!) i zwraca macierz tego samego rozmiaru z wartościami funkcji:\n",
    "$$\\sigma(x) = \\frac{1}{1 + e^{-x}}$$\n",
    "odpowiednio dla każdego $x$.\n",
    "\n",
    "Hint: [`np.e`](https://docs.scipy.org/doc/numpy/reference/constants.html#numpy.e)"
   ]
  },
  {
   "cell_type": "code",
   "execution_count": 27,
   "metadata": {
    "ExecuteTime": {
     "end_time": "2024-10-09T10:49:36.537417Z",
     "start_time": "2024-10-09T10:49:36.419623Z"
    }
   },
   "outputs": [],
   "source": [
    "def sigmoid(x: np.ndarray) -> np.ndarray:\n",
    "    return 1 / (1 + np.e ** (-x))\n",
    "\n",
    "\n",
    "X = np.random.uniform(low=-10, high=10, size=(1000, 2000))\n",
    "\n",
    "assert sigmoid(X).max() <= 1.0\n",
    "assert sigmoid(X).min() >= 0.0"
   ]
  },
  {
   "cell_type": "code",
   "execution_count": 28,
   "metadata": {
    "ExecuteTime": {
     "end_time": "2024-10-09T10:49:40.229695Z",
     "start_time": "2024-10-09T10:49:36.538479Z"
    }
   },
   "outputs": [
    {
     "name": "stdout",
     "output_type": "stream",
     "text": [
      "44.8 ms ± 2.03 ms per loop (mean ± std. dev. of 7 runs, 10 loops each)\n"
     ]
    }
   ],
   "source": [
    "%%timeit n=10\n",
    "sigmoid(X)"
   ]
  },
  {
   "cell_type": "markdown",
   "metadata": {},
   "source": [
    "## Zadanie 3.\n",
    "Ustandaryzować wartości w macierzy $X$ per kolumna, tzn. dla każdej wartości $x$ w kolumnie wykonać:\n",
    "\n",
    "$$ f(x_{ij}) = \\frac{x_{ij} - \\mu_j}{\\sigma_j} $$\n",
    "\n",
    "gdzie $\\mu_j$ to średnia wartość kolumny $j$, a $\\sigma_j$ to odchylenie standardowe kolumny $j$."
   ]
  },
  {
   "cell_type": "code",
   "execution_count": 29,
   "metadata": {
    "ExecuteTime": {
     "end_time": "2024-10-09T10:49:40.239207Z",
     "start_time": "2024-10-09T10:49:40.232423Z"
    }
   },
   "outputs": [],
   "source": [
    "X = np.random.uniform(low=-10, high=10, size=(100, 10))\n",
    "\n",
    "X_hat: np.ndarray = (X - np.mean(X, axis=0)) / np.std(X, axis=0)\n",
    "\n",
    "assert np.allclose(X_hat.mean(0), 0.0)\n",
    "assert np.allclose(X_hat.std(0), 1.0)"
   ]
  },
  {
   "cell_type": "markdown",
   "metadata": {},
   "source": [
    "## Zadanie 4. \n",
    "\n",
    "Dla funkcji $\\sigma$ z Zadania 2, narysować jej wykres dla argumentów z zakresu $(-10, 10)$. Użyjemy do tego funkcji `plot` z biblioteki [matplotlib](https://matplotlib.org/).\n",
    "\n",
    "Narysowany wykres powinien przypominać poniższy:\n",
    "\n",
    "![sigmoid](https://raw.githubusercontent.com/gmum/ml2024-25/main/lab/resources/sigmoid.png)"
   ]
  },
  {
   "cell_type": "code",
   "execution_count": 30,
   "metadata": {
    "ExecuteTime": {
     "end_time": "2024-10-09T10:49:40.356777Z",
     "start_time": "2024-10-09T10:49:40.240909Z"
    }
   },
   "outputs": [
    {
     "data": {
      "text/plain": "<Figure size 640x480 with 1 Axes>",
      "image/png": "[encoded data removed]"
     },
     "metadata": {},
     "output_type": "display_data"
    }
   ],
   "source": [
    "X = np.linspace(-10, 10)\n",
    "\n",
    "Y = sigmoid(X)\n",
    "\n",
    "plt.plot(X, Y)\n",
    "plt.show()"
   ]
  }
 ],
 "metadata": {
  "kernelspec": {
   "display_name": "Python 3",
   "language": "python",
   "name": "python3"
  },
  "language_info": {
   "codemirror_mode": {
    "name": "ipython",
    "version": 3
   },
   "file_extension": ".py",
   "mimetype": "text/x-python",
   "name": "python",
   "nbconvert_exporter": "python",
   "pygments_lexer": "ipython3",
   "version": "3.8.5"
  }
 },
 "nbformat": 4,
 "nbformat_minor": 4
}
